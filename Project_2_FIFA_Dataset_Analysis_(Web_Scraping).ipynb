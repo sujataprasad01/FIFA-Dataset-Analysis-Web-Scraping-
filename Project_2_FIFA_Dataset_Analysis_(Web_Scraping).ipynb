{
  "nbformat": 4,
  "nbformat_minor": 0,
  "metadata": {
    "colab": {
      "provenance": [],
      "authorship_tag": "ABX9TyNc7rXXk4FtqN331ln1RAKW",
      "include_colab_link": true
    },
    "kernelspec": {
      "name": "python3",
      "display_name": "Python 3"
    },
    "language_info": {
      "name": "python"
    }
  },
  "cells": [
    {
      "cell_type": "markdown",
      "metadata": {
        "id": "view-in-github",
        "colab_type": "text"
      },
      "source": [
        "<a href=\"https://colab.research.google.com/github/sujataprasad01/FIFA-Dataset-Analysis-Web-Scraping-/blob/main/Project_2_FIFA_Dataset_Analysis_(Web_Scraping).ipynb\" target=\"_parent\"><img src=\"https://colab.research.google.com/assets/colab-badge.svg\" alt=\"Open In Colab\"/></a>"
      ]
    },
    {
      "cell_type": "markdown",
      "source": [
        "# Project 2 - FIFA Dataset Analysis (Web Scraping)"
      ],
      "metadata": {
        "id": "x-R_kT0ik6KR"
      }
    },
    {
      "cell_type": "markdown",
      "source": [
        "# Importing libraries"
      ],
      "metadata": {
        "id": "I2EfVgeKk6CZ"
      }
    },
    {
      "cell_type": "code",
      "source": [
        "#numpy\n",
        "import numpy as np\n",
        "#pandas\n",
        "import pandas as pd\n",
        "#matplotlib\n",
        "import matplotlib.pyplot as plt\n",
        "#seaborn\n",
        "import seaborn as sns\n",
        "#BeautifulSoup(scrapping)\n",
        "from bs4 import BeautifulSoup\n",
        "# request\n",
        "import requests\n",
        "#data cleaning RegEx\n",
        "import re"
      ],
      "metadata": {
        "id": "N4Zcv8ihjsV8"
      },
      "execution_count": 1,
      "outputs": []
    },
    {
      "cell_type": "markdown",
      "source": [
        "# Web Scraping\n",
        "\n",
        "Library-BeautifulSoup"
      ],
      "metadata": {
        "id": "8BDrmCEqjDH1"
      }
    },
    {
      "cell_type": "code",
      "execution_count": 2,
      "metadata": {
        "id": "FKnpJW9pcQDe"
      },
      "outputs": [],
      "source": [
        "url=\"https://www.amazon.in/s?k=laptop&crid=2OM0CDK7I9IP5&sprefix=laptop%2Caps%2C681&ref=nb_sb_noss_1\"\n",
        "req=requests.get(url)"
      ]
    },
    {
      "cell_type": "code",
      "source": [
        "req"
      ],
      "metadata": {
        "id": "nQ9KjPbalVah",
        "colab": {
          "base_uri": "https://localhost:8080/"
        },
        "outputId": "ca4e86b6-69d5-462a-b61d-2303c968f309"
      },
      "execution_count": 3,
      "outputs": [
        {
          "output_type": "execute_result",
          "data": {
            "text/plain": [
              "<Response [503]>"
            ]
          },
          "metadata": {},
          "execution_count": 3
        }
      ]
    },
    {
      "cell_type": "code",
      "source": [
        "url=\"https://www.flipkart.com/search?q=laptops&as=on&as-show=on&otracker=AS_Query_TrendingAutoSuggest_9_0_na_na_na&otracker1=AS_Query_TrendingAutoSuggest_9_0_na_na_na&as-pos=9&as-type=TRENDING&suggestionId=laptops&requestId=149f1a95-ee2a-488c-a429-c0fc4dd25a87\"\n",
        "req=requests.get(url)"
      ],
      "metadata": {
        "id": "NQpUj8jNlVNh"
      },
      "execution_count": null,
      "outputs": []
    },
    {
      "cell_type": "code",
      "source": [
        "req"
      ],
      "metadata": {
        "id": "sb10FzYQlVGN"
      },
      "execution_count": null,
      "outputs": []
    },
    {
      "cell_type": "code",
      "source": [
        "soup=BeautifulDoup(req.content)"
      ],
      "metadata": {
        "id": "98y--ExxlU7d"
      },
      "execution_count": null,
      "outputs": []
    },
    {
      "cell_type": "code",
      "source": [
        "soup"
      ],
      "metadata": {
        "id": "nM9QwKT9k1Zo"
      },
      "execution_count": null,
      "outputs": []
    },
    {
      "cell_type": "markdown",
      "source": [
        "# Lets start"
      ],
      "metadata": {
        "id": "MOi5-Ono5b5S"
      }
    },
    {
      "cell_type": "code",
      "source": [
        "url='https://en.wikipedia.org/wiki/List_of_Academy_Award-winning_films'\n",
        "req=requests.get(url)"
      ],
      "metadata": {
        "id": "KO__77DS4Ggy"
      },
      "execution_count": null,
      "outputs": []
    },
    {
      "cell_type": "code",
      "source": [
        "req"
      ],
      "metadata": {
        "id": "eYBGu9RM4Gjw"
      },
      "execution_count": null,
      "outputs": []
    },
    {
      "cell_type": "code",
      "source": [
        "soup=BeautifulSoup(req.content)"
      ],
      "metadata": {
        "id": "G6MVJ2CDk1cF"
      },
      "execution_count": null,
      "outputs": []
    },
    {
      "cell_type": "code",
      "source": [
        "soup"
      ],
      "metadata": {
        "id": "06WLr3N7k1fm"
      },
      "execution_count": null,
      "outputs": []
    },
    {
      "cell_type": "code",
      "source": [],
      "metadata": {
        "id": "VWpKDsVIk1i6"
      },
      "execution_count": null,
      "outputs": []
    },
    {
      "cell_type": "code",
      "source": [],
      "metadata": {
        "id": "EPSKiGiuk1na"
      },
      "execution_count": null,
      "outputs": []
    },
    {
      "cell_type": "code",
      "source": [],
      "metadata": {
        "id": "yrzoBuPgk1sA"
      },
      "execution_count": null,
      "outputs": []
    }
  ]
}